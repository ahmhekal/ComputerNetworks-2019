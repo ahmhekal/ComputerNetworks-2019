{
 "cells": [
  {
   "cell_type": "code",
   "execution_count": 1,
   "metadata": {},
   "outputs": [],
   "source": [
    "def xor(a, b): \n",
    "  \n",
    "    result = [] \n",
    "  \n",
    "    for i in range(1, len(b)): \n",
    "        \n",
    "        if a[i] == b[i]: \n",
    "            result.append('0') \n",
    "        else: \n",
    "            result.append('1') \n",
    "  \n",
    "    return ''.join(result) "
   ]
  },
  {
   "cell_type": "code",
   "execution_count": 2,
   "metadata": {},
   "outputs": [],
   "source": [
    "def mod2div(divident, divisor): \n",
    "    \n",
    "    pick = len(divisor) \n",
    "\n",
    "    tmp = divident[0 : pick] \n",
    "  \n",
    "    while pick < len(divident): \n",
    "  \n",
    "        if tmp[0] == '1': \n",
    "  \n",
    "            tmp = xor(divisor, tmp) + divident[pick] \n",
    "  \n",
    "        else:   \n",
    "            tmp = xor('0'*pick, tmp) + divident[pick] \n",
    "  \n",
    "        pick += 1\n",
    "  \n",
    "\n",
    "    if tmp[0] == '1': \n",
    "        tmp = xor(divisor, tmp) \n",
    "    else: \n",
    "        tmp = xor('0'*pick, tmp) \n",
    "  \n",
    "    checkword = tmp \n",
    "    return checkword \n"
   ]
  },
  {
   "cell_type": "code",
   "execution_count": 3,
   "metadata": {},
   "outputs": [],
   "source": [
    "def Generator(data, key): \n",
    "  \n",
    "    l_key = len(key) \n",
    "    appended_data = data + '0'*(l_key-1) \n",
    "    remainder = mod2div(appended_data, key) \n",
    "  \n",
    "    codeword = data + remainder \n",
    "    print(\"Remainder : \", remainder) \n",
    "    print(\"Transmitted message (Data + Remainder) : \", \n",
    "          codeword) \n",
    "    return codeword"
   ]
  },
  {
   "cell_type": "code",
   "execution_count": 4,
   "metadata": {},
   "outputs": [],
   "source": [
    "def verifier(codeword, key):\n",
    "    reminder=mod2div(codeword, key)\n",
    "    if int(reminder)==0:\n",
    "        print(\"correct\")\n",
    "    \n",
    "    else:\n",
    "        print(\"incorrect\")\n",
    "        "
   ]
  },
  {
   "cell_type": "code",
   "execution_count": 5,
   "metadata": {},
   "outputs": [],
   "source": [
    "def alter(index,codeword) :\n",
    "    bit=int(codeword[index-1])^1\n",
    "    codeword=codeword[:index-1]+str(bit)+codeword[index:]\n",
    "    return codeword\n",
    "    "
   ]
  },
  {
   "cell_type": "code",
   "execution_count": 6,
   "metadata": {},
   "outputs": [],
   "source": [
    "def CRC (command,data,key):\n",
    "    if \"alter\" in command:\n",
    "        index=command.find(\"alter\")\n",
    "        index=index+6\n",
    "        index=int(command[index])\n",
    "        codeword=Generator(data, key)\n",
    "        codeword=alter(index,codeword)\n",
    "        verifier(codeword, key)\n",
    "        \n",
    "    else:\n",
    "        codeword=Generator(data, key)\n",
    "        verifier(codeword, key)"
   ]
  },
  {
   "cell_type": "markdown",
   "metadata": {},
   "source": [
    "# Test Cases"
   ]
  },
  {
   "cell_type": "code",
   "execution_count": 7,
   "metadata": {},
   "outputs": [
    {
     "name": "stdout",
     "output_type": "stream",
     "text": [
      "Remainder :  0010\n",
      "Transmitted message (Data + Remainder) :  11010111110010\n"
     ]
    },
    {
     "data": {
      "text/plain": [
       "'11010111110010'"
      ]
     },
     "execution_count": 7,
     "metadata": {},
     "output_type": "execute_result"
    }
   ],
   "source": [
    "# generator test case\n",
    "\n",
    "message=\"1101011111\"\n",
    "key=\"10011\"\n",
    "Generator(message, key)"
   ]
  },
  {
   "cell_type": "code",
   "execution_count": 8,
   "metadata": {},
   "outputs": [
    {
     "data": {
      "text/plain": [
       "'11101'"
      ]
     },
     "execution_count": 8,
     "metadata": {},
     "output_type": "execute_result"
    }
   ],
   "source": [
    "# alter test case \n",
    "Transmitted_m=\"11001\"\n",
    "index=3\n",
    "new=alter(index,Transmitted_m)\n",
    "new"
   ]
  },
  {
   "cell_type": "code",
   "execution_count": 9,
   "metadata": {},
   "outputs": [
    {
     "name": "stdout",
     "output_type": "stream",
     "text": [
      "Remainder :  0010\n",
      "Transmitted message (Data + Remainder) :  11010111110010\n",
      "correct\n"
     ]
    }
   ],
   "source": [
    "# verifier without alter test case\n",
    "message=\"1101011111\"\n",
    "key=\"10011\"\n",
    "codeword=Generator(message, key)\n",
    "verifier(codeword, key)"
   ]
  },
  {
   "cell_type": "code",
   "execution_count": 10,
   "metadata": {},
   "outputs": [
    {
     "name": "stdout",
     "output_type": "stream",
     "text": [
      "Remainder :  0010\n",
      "Transmitted message (Data + Remainder) :  11010111110010\n",
      "message after alter 11110111110010\n",
      "incorrect\n"
     ]
    }
   ],
   "source": [
    "# verifier with alter test case\n",
    "message=\"1101011111\"\n",
    "key=\"10011\"\n",
    "codeword=Generator(message, key)\n",
    "codeword_after_alter=alter(3,codeword)\n",
    "print(\"message after alter\",codeword_after_alter)\n",
    "verifier(codeword_after_alter, key)"
   ]
  },
  {
   "cell_type": "markdown",
   "metadata": {},
   "source": [
    "# Program"
   ]
  },
  {
   "cell_type": "code",
   "execution_count": null,
   "metadata": {},
   "outputs": [],
   "source": [
    "message=input(\"please enter a message \")\n",
    "key= input(\"please enter a key \")\n",
    "command= input(\"enter a command\")"
   ]
  },
  {
   "cell_type": "code",
   "execution_count": null,
   "metadata": {},
   "outputs": [],
   "source": [
    "CRC (command,message,key)"
   ]
  }
 ],
 "metadata": {
  "kernelspec": {
   "display_name": "Python 3",
   "language": "python",
   "name": "python3"
  },
  "language_info": {
   "codemirror_mode": {
    "name": "ipython",
    "version": 3
   },
   "file_extension": ".py",
   "mimetype": "text/x-python",
   "name": "python",
   "nbconvert_exporter": "python",
   "pygments_lexer": "ipython3",
   "version": "3.6.4"
  }
 },
 "nbformat": 4,
 "nbformat_minor": 2
}
