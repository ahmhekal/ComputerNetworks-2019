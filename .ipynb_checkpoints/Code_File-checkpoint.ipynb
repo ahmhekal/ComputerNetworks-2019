{
 "cells": [
  {
   "cell_type": "code",
   "execution_count": null,
   "metadata": {},
   "outputs": [],
   "source": [
    "def xor(a, b): \n",
    "  \n",
    "    result = [] \n",
    "  \n",
    "    for i in range(1, len(b)): \n",
    "        if a[i] == b[i]: \n",
    "            result.append('0') \n",
    "        else: \n",
    "            result.append('1') \n",
    "  \n",
    "    return ''.join(result) "
   ]
  },
  {
   "cell_type": "code",
   "execution_count": 1,
   "metadata": {},
   "outputs": [],
   "source": [
    "def mod2div(divident, divisor): \n",
    "    \n",
    "    pick = len(divisor) \n",
    "\n",
    "    tmp = divident[0 : pick] \n",
    "  \n",
    "    while pick < len(divident): \n",
    "  \n",
    "        if tmp[0] == '1': \n",
    "  \n",
    "            tmp = xor(divisor, tmp) + divident[pick] \n",
    "  \n",
    "        else:   \n",
    "            tmp = xor('0'*pick, tmp) + divident[pick] \n",
    "  \n",
    "        pick += 1\n",
    "  \n",
    "\n",
    "    if tmp[0] == '1': \n",
    "        tmp = xor(divisor, tmp) \n",
    "    else: \n",
    "        tmp = xor('0'*pick, tmp) \n",
    "  \n",
    "    checkword = tmp \n",
    "    return checkword \n"
   ]
  },
  {
   "cell_type": "code",
   "execution_count": 2,
   "metadata": {},
   "outputs": [],
   "source": [
    "def Generator(data, key): \n",
    "  \n",
    "    l_key = len(key) \n",
    "    appended_data = data + '0'*(l_key-1) \n",
    "    remainder = mod2div(appended_data, key) \n",
    "  \n",
    "    codeword = data + remainder \n",
    "    print(\"Remainder : \", remainder) \n",
    "    print(\"Transmitted message (Data + Remainder) : \", \n",
    "          codeword) \n",
    "    return codeword"
   ]
  },
  {
   "cell_type": "code",
   "execution_count": 1,
   "metadata": {},
   "outputs": [],
   "source": [
    "def verifier(codeword, key):\n",
    "    reminder=mod2div(codeword, key)\n",
    "    if int(reminder)==0:\n",
    "        print(\"correct\")\n",
    "    \n",
    "    else:\n",
    "        print(\"incorrect\")\n",
    "        "
   ]
  },
  {
   "cell_type": "code",
   "execution_count": 2,
   "metadata": {},
   "outputs": [],
   "source": [
    "def alter(index,codeword) :\n",
    "    bit=int(codeword[index-1])^1\n",
    "    codeword=codeword[:index-1]+str(bit)+codeword[index:]\n",
    "    return codeword\n",
    "    "
   ]
  },
  {
   "cell_type": "code",
   "execution_count": null,
   "metadata": {},
   "outputs": [],
   "source": [
    "def CRC (command,data,key):\n",
    "    if \"alter\" in command:\n",
    "        index=command.find(\"alter\")\n",
    "        index=index+6\n",
    "        index=int(command[index])\n",
    "        codeword=Generator(data, key)\n",
    "        codeword=alter(index,codeword)\n",
    "        verifier(codeword, key)\n",
    "        \n",
    "    else:\n",
    "        codeword=Generator(data, key)\n",
    "        verifier(codeword, key)"
   ]
  }
 ],
 "metadata": {
  "kernelspec": {
   "display_name": "Python 3",
   "language": "python",
   "name": "python3"
  },
  "language_info": {
   "codemirror_mode": {
    "name": "ipython",
    "version": 3
   },
   "file_extension": ".py",
   "mimetype": "text/x-python",
   "name": "python",
   "nbconvert_exporter": "python",
   "pygments_lexer": "ipython3",
   "version": "3.7.0"
  }
 },
 "nbformat": 4,
 "nbformat_minor": 2
}
